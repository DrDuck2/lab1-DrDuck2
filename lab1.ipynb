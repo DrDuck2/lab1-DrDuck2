{
  "cells": [
    {
      "cell_type": "markdown",
      "metadata": {
        "id": "j6dLsmrOtlg_"
      },
      "source": [
        "# Lab 1: Introduction to 3D Coordinate Systems and Transformations"
      ]
    },
    {
      "cell_type": "markdown",
      "source": [
        "<a href=\"https://colab.research.google.com/github/ferit-3d-computer-graphics/lab1/blob/main/lab1.ipynb\" target=\"_parent\"><img src=\"https://colab.research.google.com/assets/colab-badge.svg\" alt=\"Open In Colab\"/></a>"
      ],
      "metadata": {
        "id": "N4km-jbFjFKT"
      }
    },
    {
      "cell_type": "markdown",
      "metadata": {
        "id": "CmX1T7pVtzmm"
      },
      "source": [
        "---\n",
        "\n",
        "## Learning Objectives\n",
        "\n",
        "In this lab, you will:\n",
        "\n",
        "- Understand how points and objects are represented in 3D space.\n",
        "- Learn about homogeneous coordinates and their purpose in 3D transformations.\n",
        "- Apply geometric transformations including translation, rotation, and scaling.\n",
        "- Use transformation matrices to manipulate 3D objects.\n",
        "- Visualize the effects of these transformations using Python and `matplotlib`.\n",
        "\n",
        "---\n",
        "\n",
        "## Theoretical Background\n",
        "\n",
        "### 1. 3D Coordinate Systems\n",
        "\n",
        "In computer graphics, the 3D world is described using a **right-handed coordinate system**, where:\n",
        "\n",
        "- The **X-axis** typically runs horizontally,\n",
        "- The **Y-axis** runs vertically,\n",
        "- The **Z-axis** comes out of or goes into the screen.\n",
        "\n",
        "A point in 3D space is represented as a vector:  \n",
        "\n",
        "$$ P = \\begin{bmatrix} x \\\\ y \\\\ z \\end{bmatrix} $$\n",
        "\n",
        "### 2. Homogeneous Coordinates\n",
        "\n",
        "To enable translation using matrix multiplication (which isn't possible in standard 3D vectors), we use **homogeneous coordinates**, which add a fourth component:\n",
        "\n",
        "$$ \\mathbf{P}_{\\text{hom}} = \\begin{bmatrix} x \\\\ y \\\\ z \\\\ 1 \\end{bmatrix} $$\n",
        "\n",
        "This allows all transformations (including translation) to be expressed as **4×4 matrices**, unifying the way we apply transformations.\n",
        "\n",
        "---\n",
        "\n",
        "### 3. Transformation Matrices\n",
        "\n",
        "In 3D graphics, objects are manipulated using **transformation matrices**:\n",
        "\n",
        "- **Translation** (move object):\n",
        "  $$\n",
        "  T = \\begin{bmatrix}\n",
        "  1 & 0 & 0 & t_x \\\\\\\\\n",
        "  0 & 1 & 0 & t_y \\\\\\\\\n",
        "  0 & 0 & 1 & t_z \\\\\\\\\n",
        "  0 & 0 & 0 & 1\n",
        "  \\end{bmatrix}\n",
        "  $$\n",
        "\n",
        "- **Scaling** (resize object):\n",
        "  $$\n",
        "  S = \\begin{bmatrix}\n",
        "  s_x & 0 & 0 & 0 \\\\\\\\\n",
        "  0 & s_y & 0 & 0 \\\\\\\\\n",
        "  0 & 0 & s_z & 0 \\\\\\\\\n",
        "  0 & 0 & 0 & 1\n",
        "  \\end{bmatrix}\n",
        "  $$\n",
        "\n",
        "- **Rotation** (rotate around an axis, e.g., Z-axis):\n",
        "  $$\n",
        "  R_z(\\\\theta) = \\begin{bmatrix}\n",
        "  \\cos\\\\theta & -\\sin\\\\theta & 0 & 0 \\\\\\\\\n",
        "  \\sin\\\\theta & \\cos\\\\theta & 0 & 0 \\\\\\\\\n",
        "  0 & 0 & 1 & 0 \\\\\\\\\n",
        "  0 & 0 & 0 & 1\n",
        "  \\end{bmatrix}\n",
        "  $$\n",
        "\n",
        "To apply a transformation to a point, we multiply:\n",
        "\n",
        "$$\n",
        "\\mathbf{P}' = T \\cdot R \\cdot S \\cdot \\mathbf{P}_{\\text{hom}}\n",
        "$$\n",
        "\n",
        "> ⚠️ Note: The order of transformations **matters**. Matrix multiplication is **not commutative**.\n",
        "\n",
        "---\n",
        "\n",
        "### 4. Practical Applications\n",
        "\n",
        "These transformations are used in nearly every stage of a 3D graphics pipeline:\n",
        "\n",
        "- **Modeling**: Position and scale objects in the scene.\n",
        "- **Animation**: Rotate or move objects over time.\n",
        "- **Camera**: Transform world coordinates into view coordinates.\n",
        "\n",
        "By the end of this lab, you'll have an intuitive understanding of how these transformations work and how they affect 3D models.\n",
        "\n",
        "---"
      ]
    },
    {
      "cell_type": "code",
      "execution_count": null,
      "metadata": {
        "id": "Fj49mm3RsEFp"
      },
      "outputs": [],
      "source": [
        "import numpy as np\n",
        "import matplotlib.pyplot as plt\n",
        "from mpl_toolkits.mplot3d import Axes3D"
      ]
    },
    {
      "cell_type": "code",
      "execution_count": null,
      "metadata": {
        "id": "SV4oLe8AxoWl"
      },
      "outputs": [],
      "source": [
        "# Utility function to draw 3D coordinate axes\n",
        "def draw_axes(ax, origin=[0, 0, 0], length=2.0):\n",
        "    ax.quiver(*origin, length, 0, 0, color='r', arrow_length_ratio=0.1)\n",
        "    ax.quiver(*origin, 0, length, 0, color='g', arrow_length_ratio=0.1)\n",
        "    ax.quiver(*origin, 0, 0, length, color='b', arrow_length_ratio=0.1)\n",
        "    ax.text(origin[0]+length, origin[1], origin[2], 'X', color='r')\n",
        "    ax.text(origin[0], origin[1]+length, origin[2], 'Y', color='g')\n",
        "    ax.text(origin[0], origin[1], origin[2]+length, 'Z', color='b')"
      ]
    },
    {
      "cell_type": "code",
      "execution_count": null,
      "metadata": {
        "id": "UGGSkv9qvNrw"
      },
      "outputs": [],
      "source": [
        "# Plot coordinate system\n",
        "fig = plt.figure(figsize=(6,6))\n",
        "ax = fig.add_subplot(111, projection='3d')\n",
        "draw_axes(ax)\n",
        "ax.set_xlim([-2, 4])\n",
        "ax.set_ylim([-2, 4])\n",
        "ax.set_zlim([-2, 4])\n",
        "ax.set_title(\"3D Coordinate Axes\")\n",
        "plt.show()"
      ]
    },
    {
      "cell_type": "markdown",
      "metadata": {
        "id": "JvOKuZrzvQkn"
      },
      "source": [
        "### Example 1. Basics of 3D coordinate space"
      ]
    },
    {
      "cell_type": "markdown",
      "metadata": {
        "id": "hjJJGSDIwnj2"
      },
      "source": [
        "### Example 2. Visualizing the 3D Coordinate Axes\n",
        "\n",
        "In the visualization below, we render the three principal axes of the 3D coordinate system using colored arrows. The red arrow represents the **X-axis**, the green arrow represents the **Y-axis**, and the blue arrow represents the **Z-axis**. These axes originate from the point \\((0, 0, 0)\\), which is the **origin** of the 3D space.\n",
        "\n",
        "The plot helps us understand the orientation and scale of the coordinate system, and it serves as a reference frame for placing and transforming 3D objects in future examples. The axis limits are set from \\(-2\\) to \\(2\\) in all directions for clarity and symmetry."
      ]
    },
    {
      "cell_type": "code",
      "execution_count": null,
      "metadata": {
        "id": "44KNKaY3sOXY"
      },
      "outputs": [],
      "source": [
        "# Part 1: Basics of 3D coordinate space\n",
        "fig = plt.figure(figsize=(6,6))\n",
        "ax = fig.add_subplot(111, projection='3d')\n",
        "draw_axes(ax)\n",
        "ax.set_xlim([-2, 2])\n",
        "ax.set_ylim([-2, 2])\n",
        "ax.set_zlim([-2, 2])\n",
        "ax.set_title(\"3D Coordinate Axes\")\n",
        "plt.show()"
      ]
    },
    {
      "cell_type": "markdown",
      "metadata": {
        "id": "QVIpd7VtMLVK"
      },
      "source": [
        "## Homogeneous Coordinates"
      ]
    },
    {
      "cell_type": "markdown",
      "metadata": {
        "id": "9ZG8duVgwxel"
      },
      "source": [
        "### Example 3: Applying diferent transformations\n",
        "\n",
        "In 3D computer graphics, transformations such as translation, scaling, and rotation are often applied to objects using matrix operations. However, translation cannot be represented using standard $3 \\times 3$ matrices. To unify all geometric transformations under matrix multiplication, we use **homogeneous coordinates**.\n",
        "\n",
        "The extra component (usually set to 1) enables us to represent translation as a matrix operation. This expanded representation allows all transformations to be applied using a consistent **4×4 transformation matrix**. This approach simplifies the combination of multiple transformations (e.g., scaling followed by rotation and translation) into a single matrix multiplication."
      ]
    },
    {
      "cell_type": "code",
      "execution_count": null,
      "metadata": {
        "colab": {
          "base_uri": "https://localhost:8080/"
        },
        "id": "vDowARUMvpr9",
        "outputId": "aa80726f-b295-48c4-b5b3-9b5ab8cf9700"
      },
      "outputs": [
        {
          "name": "stdout",
          "output_type": "stream",
          "text": [
            "Original Point in Homogeneous Coordinates: [1 1 1 1]\n"
          ]
        }
      ],
      "source": [
        "# define Homogeneous Coordinates\n",
        "# A 3D point (x, y, z) is represented as (x, y, z, 1) in homogeneous coordinates\n",
        "point = np.array([1, 1, 1, 1])\n",
        "print(\"Original Point in Homogeneous Coordinates:\", point)"
      ]
    },
    {
      "cell_type": "code",
      "execution_count": null,
      "metadata": {
        "id": "n7JLeSCjvvtb"
      },
      "outputs": [],
      "source": [
        "# Define Transformation Matrices\n",
        "\n",
        "def translation_matrix(tx, ty, tz):\n",
        "    return np.array([\n",
        "        [1, 0, 0, tx],\n",
        "        [0, 1, 0, ty],\n",
        "        [0, 0, 1, tz],\n",
        "        [0, 0, 0, 1]\n",
        "    ])\n",
        "\n",
        "def scaling_matrix(sx, sy, sz):\n",
        "    return np.array([\n",
        "        [sx, 0, 0, 0],\n",
        "        [0, sy, 0, 0],\n",
        "        [0, 0, sz, 0],\n",
        "        [0, 0, 0, 1]\n",
        "    ])\n",
        "\n",
        "def rotation_matrix_x(theta):\n",
        "    c, s = np.cos(theta), np.sin(theta)\n",
        "    return np.array([\n",
        "        [1, 0, 0, 0],\n",
        "        [0, c, -s, 0],\n",
        "        [0, s, c, 0],\n",
        "        [0, 0, 0, 1]\n",
        "    ])\n",
        "\n",
        "def rotation_matrix_y(theta):\n",
        "    c, s = np.cos(theta), np.sin(theta)\n",
        "    return np.array([\n",
        "        [c, 0, s, 0],\n",
        "        [0, 1, 0, 0],\n",
        "        [-s, 0, c, 0],\n",
        "        [0, 0, 0, 1]\n",
        "    ])\n",
        "\n",
        "def rotation_matrix_z(theta):\n",
        "    c, s = np.cos(theta), np.sin(theta)\n",
        "    return np.array([\n",
        "        [c, -s, 0, 0],\n",
        "        [s, c, 0, 0],\n",
        "        [0, 0, 1, 0],\n",
        "        [0, 0, 0, 1]\n",
        "    ])"
      ]
    },
    {
      "cell_type": "code",
      "execution_count": null,
      "metadata": {
        "id": "7wxHe90hv2hR"
      },
      "outputs": [],
      "source": [
        "# Applying transformations\n",
        "T = translation_matrix(2, 0, 0)\n",
        "S = scaling_matrix(1, 2, 1)\n",
        "R = rotation_matrix_z(np.pi / 4)  # 45 degrees\n",
        "combined_transform = T @ R @ S\n",
        "transformed_point = combined_transform @ point\n",
        "print(\"Transformed Point:\", transformed_point)"
      ]
    },
    {
      "cell_type": "code",
      "execution_count": null,
      "metadata": {
        "id": "AMby22jbv5mz"
      },
      "outputs": [],
      "source": [
        "# Visualizing transformations\n",
        "fig = plt.figure(figsize=(6,6))\n",
        "ax = fig.add_subplot(111, projection='3d')\n",
        "draw_axes(ax)\n",
        "ax.scatter(*point[:3], color='black', label='Original Point')\n",
        "ax.scatter(*transformed_point[:3], color='magenta', label='Transformed Point')\n",
        "ax.legend()\n",
        "ax.set_xlim([-2, 4])\n",
        "ax.set_ylim([-2, 4])\n",
        "ax.set_zlim([-2, 4])\n",
        "ax.set_title(\"Original and Transformed Point\")\n",
        "plt.show()"
      ]
    },
    {
      "cell_type": "code",
      "execution_count": null,
      "metadata": {
        "id": "FdysANzVv8YN"
      },
      "outputs": [],
      "source": [
        "# Part 6: Transforming a set of points (e.g. a cube)\n",
        "cube_points = np.array([\n",
        "    [0, 0, 0, 1],\n",
        "    [1, 0, 0, 1],\n",
        "    [1, 1, 0, 1],\n",
        "    [0, 1, 0, 1],\n",
        "    [0, 0, 1, 1],\n",
        "    [1, 0, 1, 1],\n",
        "    [1, 1, 1, 1],\n",
        "    [0, 1, 1, 1]\n",
        "])\n",
        "\n",
        "transformed_cube = (combined_transform @ cube_points.T).T\n",
        "\n",
        "fig = plt.figure(figsize=(6,6))\n",
        "ax = fig.add_subplot(111, projection='3d')\n",
        "draw_axes(ax)\n",
        "ax.scatter(cube_points[:,0], cube_points[:,1], cube_points[:,2], color='blue', label='Original Cube Points')\n",
        "ax.scatter(transformed_cube[:,0], transformed_cube[:,1], transformed_cube[:,2], color='orange', label='Transformed Cube Points')\n",
        "ax.legend()\n",
        "ax.set_xlim([-2, 5])\n",
        "ax.set_ylim([-2, 5])\n",
        "ax.set_zlim([-2, 5])\n",
        "ax.set_title(\"Cube Before and After Transformation\")\n",
        "plt.show()"
      ]
    },
    {
      "cell_type": "markdown",
      "metadata": {
        "id": "HvSjNzSONP3k"
      },
      "source": [
        "### Example 4: Transforming a Cube\n",
        "\n",
        "In this example, we demonstrate how a 3D cube can be transformed using homogeneous transformation matrices. We first define the cube as a set of 8 vertices in homogeneous coordinates. Then, we define a sequence of transformations.\n",
        "\n",
        "he plot shows:\n",
        "- The **original cube** in blue (dashed lines)\n",
        "- The **transformed cube** in orange (solid lines)\n",
        "\n",
        "This visually demonstrates how transformation matrices can change the position, orientation, and size of a 3D object."
      ]
    },
    {
      "cell_type": "code",
      "execution_count": null,
      "metadata": {
        "id": "Wll0IQGmNHYX"
      },
      "outputs": [],
      "source": [
        "# Part 4: Transforming a Cube Using Homogeneous Coordinates\n",
        "\n",
        "# Define the 8 vertices of a unit cube in homogeneous coordinates\n",
        "cube_vertices = np.array([\n",
        "    [0, 0, 0, 1],\n",
        "    [1, 0, 0, 1],\n",
        "    [1, 1, 0, 1],\n",
        "    [0, 1, 0, 1],\n",
        "    [0, 0, 1, 1],\n",
        "    [1, 0, 1, 1],\n",
        "    [1, 1, 1, 1],\n",
        "    [0, 1, 1, 1]\n",
        "])\n",
        "\n",
        "# Define the edges of the cube (pairs of vertex indices)\n",
        "edges = [\n",
        "    (0, 1), (1, 2), (2, 3), (3, 0),\n",
        "    (4, 5), (5, 6), (6, 7), (7, 4),\n",
        "    (0, 4), (1, 5), (2, 6), (3, 7)\n",
        "]\n",
        "\n",
        "# Create a combined transformation\n",
        "T = translation_matrix(1, 1, 0)\n",
        "S = scaling_matrix(1.5, 1, 0.5)\n",
        "R = rotation_matrix_y(np.pi / 6)  # 30° rotation around Y-axis\n",
        "combined = T @ R @ S\n",
        "\n",
        "# Apply transformation to all cube vertices\n",
        "transformed_vertices = (combined @ cube_vertices.T).T\n",
        "\n",
        "# Plot the original and transformed cubes\n",
        "fig = plt.figure(figsize=(8, 8))\n",
        "ax = fig.add_subplot(111, projection='3d')\n",
        "draw_axes(ax, length=2)\n",
        "\n",
        "# Plot original cube (blue)\n",
        "for edge in edges:\n",
        "    xs = [cube_vertices[edge[0], 0], cube_vertices[edge[1], 0]]\n",
        "    ys = [cube_vertices[edge[0], 1], cube_vertices[edge[1], 1]]\n",
        "    zs = [cube_vertices[edge[0], 2], cube_vertices[edge[1], 2]]\n",
        "    ax.plot(xs, ys, zs, color='blue', linestyle='--')\n",
        "\n",
        "# Plot transformed cube (orange)\n",
        "for edge in edges:\n",
        "    xs = [transformed_vertices[edge[0], 0], transformed_vertices[edge[1], 0]]\n",
        "    ys = [transformed_vertices[edge[0], 1], transformed_vertices[edge[1], 1]]\n",
        "    zs = [transformed_vertices[edge[0], 2], transformed_vertices[edge[1], 2]]\n",
        "    ax.plot(xs, ys, zs, color='orange')\n",
        "\n",
        "ax.set_title(\"Original Cube (blue) and Transformed Cube (orange)\")\n",
        "ax.set_xlim([-2, 4])\n",
        "ax.set_ylim([-2, 4])\n",
        "ax.set_zlim([-1, 3])\n",
        "plt.show()"
      ]
    },
    {
      "cell_type": "markdown",
      "metadata": {
        "id": "Gq2gSV-sN0mR"
      },
      "source": [
        "### Example 5. Chain of Transformations on a 3D \"Robot Arm\"\n",
        "We’ll model a simple robot arm with two connected segments:\n",
        "\n",
        "* Segment A rotates around the origin.\n",
        "* Segment B is attached to the end of segment A and rotates relative to it.\n",
        "\n",
        "Each segment will be transformed using its own transformation matrix, and we’ll combine those matrices to compute the final position of the end of the arm.\n",
        "\n",
        "We use homogeneous transformation matrices to define the pose of each segment. By multiplying matrices, we can model **hierarchical transformations**, where the motion of one part affects the rest of the structure."
      ]
    },
    {
      "cell_type": "code",
      "execution_count": null,
      "metadata": {
        "id": "biORn2bIOEFf"
      },
      "outputs": [],
      "source": [
        "# Part 5: Robot Arm - Hierarchical Transformations\n",
        "\n",
        "# Base point in homogeneous coordinates (origin of the robot arm)\n",
        "base_point = np.array([0, 0, 0, 1])\n",
        "\n",
        "# Segment lengths\n",
        "L1 = 2.0  # length of segment A\n",
        "L2 = 1.5  # length of segment B\n",
        "\n",
        "# Joint angles (in radians)\n",
        "theta1 = np.pi / 4   # 45° rotation of segment A around Z-axis\n",
        "theta2 = -np.pi / 6  # -30° rotation of segment B around Z-axis (relative to segment A)\n",
        "\n",
        "# Transformation of Segment A (rotate + translate)\n",
        "R1 = rotation_matrix_z(theta1)\n",
        "T1 = translation_matrix(L1, 0, 0)\n",
        "M1 = R1 @ T1  # First segment moves out along x-axis, then rotates\n",
        "\n",
        "# Transformation of Segment B (relative to the end of Segment A)\n",
        "R2 = rotation_matrix_z(theta2)\n",
        "T2 = translation_matrix(L2, 0, 0)\n",
        "M2 = R2 @ T2  # Second segment rotates then extends\n",
        "\n",
        "# Combine transformations\n",
        "M_total = M1 @ M2\n",
        "\n",
        "# Compute end effector position\n",
        "end_effector = M_total @ base_point\n",
        "\n",
        "# Plot the robot arm\n",
        "fig = plt.figure(figsize=(8, 8))\n",
        "ax = fig.add_subplot(111, projection='3d')\n",
        "draw_axes(ax, length=3)\n",
        "\n",
        "# Plot segment A\n",
        "origin = base_point[:3]\n",
        "joint_A = (R1 @ np.array([L1, 0, 0, 1]))[:3]\n",
        "ax.plot([origin[0], joint_A[0]], [origin[1], joint_A[1]], [origin[2], joint_A[2]], color='blue', linewidth=3, label='Segment A')\n",
        "\n",
        "# Plot segment B\n",
        "joint_B = end_effector[:3]\n",
        "ax.plot([joint_A[0], joint_B[0]], [joint_A[1], joint_B[1]], [joint_A[2], joint_B[2]], color='orange', linewidth=3, label='Segment B')\n",
        "\n",
        "# Mark points\n",
        "ax.scatter(*origin, color='black', label='Base')\n",
        "ax.scatter(*joint_A, color='blue')\n",
        "ax.scatter(*joint_B, color='red', label='End Effector')\n",
        "\n",
        "ax.set_xlim([-1, 4])\n",
        "ax.set_ylim([-1, 4])\n",
        "ax.set_zlim([-1, 4])\n",
        "ax.set_title(\"Robot Arm with Hierarchical Transformations\")\n",
        "ax.legend()\n",
        "plt.show()"
      ]
    },
    {
      "cell_type": "markdown",
      "metadata": {
        "id": "jWqIbchsv-fl"
      },
      "source": [
        "# Student Tasks:\n",
        "\n"
      ]
    },
    {
      "cell_type": "markdown",
      "metadata": {
        "id": "Y78l35jvPhNl"
      },
      "source": [
        "## Task 1: Construct and Transform a Custom Shape (e.g., House Roof)\n",
        "\n",
        "1. Use the cube geometry from the previous task, defined as 8 vertices in homogeneous coordinates (cube_points).\n",
        "\n",
        "2. Define an orbit angle, e.g., 45° (π/4 radians), representing the cube’s position on a circular orbit path.\n",
        "\n",
        "3. Construct two transformation matrices:\n",
        "* Translation matrix to move the cube to a point on a circular orbit of radius r = 3 units around the origin.\n",
        "* Rotation matrix to rotate the cube around its own Z-axis by the same angle.\n",
        "\n",
        "4. Combine the two matrices in the correct order:\n",
        "* First rotate the cube about its center (local rotation)\n",
        "* Then translate it to its orbit position\n",
        "\n",
        "5. Apply the combined transformation to all the cube’s vertices.\n",
        "6. Visualize the result using matplotlib, showing the rotated and orbiting cube."
      ]
    },
    {
      "cell_type": "markdown",
      "metadata": {
        "id": "M-sCMJ_TPZ3X"
      },
      "source": [
        "## Task 2: Orbiting Cube with Self-Rotation\n",
        "\n",
        "Create a transformation that moves a cube in a circular orbit around the origin, while the cube also rotates around its own center. This task simulates combined global and local transformations and deepens your understanding of the order of matrix operations.\n",
        "\n",
        "1. Start with a unit cube: Use the cube defined by 8 vertices in homogeneous coordinates from the earlier example (cube_points).\n",
        "2. Define the orbit angle: Choose an angle in radians (e.g., π/4, which is 45°) that represents the cube's position along the circular orbit.\n",
        "3. Create a rotation matrix: Use rotation_matrix_z(angle) to rotate the cube around its own Z-axis. This represents the self-rotation of the cube.\n",
        "4. Create a translation matrix: Use translation_matrix(x, y, z) to place the cube at a point on a circle with radius r = 3.\n",
        "The coordinates should be:\n",
        "* x = 3 * cos(angle)\n",
        "* y = 3 * sin(angle)\n",
        "* z = 0\n",
        "\n",
        "This simulates the cube orbiting around the origin in the XY-plane.\n",
        "5. Combine the transformations: Multiply the matrices in the correct order:  `combined = T_orbit @ R_self`\n",
        "This order first rotates the cube around its own center, then translates it into the orbit position.\n",
        "6. Transform all cube vertices: Multiply the combined transformation matrix by the cube’s vertex matrix.\n",
        "7. Visualize: Use matplotlib to plot the transformed cube. Draw coordinate axes using a helper like draw_axes(ax) and use a 3D scatter plot to show the result."
      ]
    },
    {
      "cell_type": "markdown",
      "metadata": {
        "id": "GyHkSylYQTVH"
      },
      "source": [
        "## Task 3: Simulate a 3-Joint Robotic Arm Using Homogeneous Transformations\n",
        "\n",
        "Build a simple robotic arm consisting of three connected segments (links), each capable of rotating around its respective joint. Using homogeneous transformation matrices, calculate the position of each joint and the final end effector, then visualize the result in 3D.\n",
        "\n",
        "1. **Define segment lengths**  \n",
        "   Each link of the robotic arm has a specific length:\n",
        "   ```python\n",
        "   L1, L2, L3 = 2, 1.5, 1\n",
        "\n",
        "2. Set joint angles (in radians):\n",
        "Assign rotation angles for each joint: $θ_1$ 30 degrees, $θ_2$ 45 degrees, $θ_3$ = -30 degrees.\n",
        "\n",
        "3. Construct transformation matrices. Each segment undergoes a rotation followed by a translation along the X-axis:\n",
        "```\n",
        "M1 = rotation_matrix_z(θ1) ⋅ translation_matrix(L1, 0, 0)\n",
        "M2 = rotation_matrix_z(θ2) ⋅ translation_matrix(L2, 0, 0)\n",
        "M3 = rotation_matrix_z(θ3) ⋅ translation_matrix(L3, 0, 0)\n",
        "```\n",
        "4. Compute positions of the joints and end effector. Use chained transformations to find the position of each joint:\n",
        "\n",
        "```\n",
        "joint1 = M1 @ [0, 0, 0, 1]                # End of Segment 1  \n",
        "joint2 = M1 @ M2 @ [0, 0, 0, 1]           # End of Segment 2  \n",
        "effector = M1 @ M2 @ M3 @ [0, 0, 0, 1]    # End effector\n",
        "```\n",
        "5. Plot the robotic arm in 3D using Matplotlib:\n",
        "* Draw each segment as a 3D line: segment 1: blue, segment 2: green, segment 3: red.\n",
        "Mark the end effector with a magenta point. Use a helper function like draw_axes(ax) to show the coordinate system."
      ]
    },
    {
      "cell_type": "markdown",
      "metadata": {
        "id": "m0VBbud2UqBK"
      },
      "source": [
        "## Part 2: 3D Object Modeling and Parametric Surfaces\n",
        "\n",
        "In computer graphics, 3D object modeling is the process of representing three-dimensional objects using mathematical constructs such as vertices, edges, surfaces, and equations. This lab explores two key approaches:\n",
        "\n",
        "---\n",
        "\n",
        "#### 1. **Procedural Geometry**\n",
        "\n",
        "Procedural geometry involves generating shapes algorithmically using basic mathematical definitions and loops. For example:\n",
        "\n",
        "- A **cube** can be constructed from 8 vertices and 12 edges.\n",
        "- A **sphere** can be generated using spherical coordinates:\n",
        "  $$\n",
        "  \\begin{aligned}\n",
        "  x &= \\cos(u) \\cdot \\sin(v) \\\\\\\\\n",
        "  y &= \\sin(u) \\cdot \\sin(v) \\\\\\\\\n",
        "  z &= \\cos(v)\n",
        "  \\end{aligned}\n",
        "  $$\n",
        "- A **cylinder** can be defined as a circle extruded along the Z-axis.\n",
        "\n",
        "These shapes are useful for testing rendering systems and building simple models.\n",
        "\n",
        "---\n",
        "\n",
        "#### 2. **Parametric Modeling**\n",
        "\n",
        "Parametric surfaces are defined using one or more parameters to describe points on the surface. Unlike procedural geometry, parametric models offer more flexibility and can represent smooth and complex surfaces.\n",
        "\n",
        "- A **torus** (donut shape) is defined with major radius \\( R \\) and minor radius \\( r \\):\n",
        "  $$\n",
        "  \\begin{aligned}\n",
        "  x &= (R + r \\cos(v)) \\cos(u) \\\\\\\\\n",
        "  y &= (R + r \\cos(v)) \\sin(u) \\\\\\\\\n",
        "  z &= r \\sin(v)\n",
        "  \\end{aligned}\n",
        "  $$\n",
        "\n",
        "- A **superellipsoid** generalizes the sphere and cube using exponential control parameters $n_1$ and $n_2$:\n",
        "  $$\n",
        "  \\begin{aligned}\n",
        "  x &= a \\cdot (\\cos(u))^{n_1} \\cdot (\\cos(v))^{n_2} \\\\\\\\\n",
        "  y &= b \\cdot (\\sin(u))^{n_1} \\cdot (\\cos(v))^{n_2} \\\\\\\\\n",
        "  z &= c \\cdot (\\sin(v))^{n_2}\n",
        "  \\end{aligned}\n",
        "  $$\n",
        "\n",
        "The exponents $n_1$ and $n_2$ control the shape’s roundness or squareness.\n",
        "\n",
        "---\n",
        "\n",
        "#### 3. **Vertex Arrays and Normals**\n",
        "\n",
        "In real-time rendering and shading, we often work with **vertex arrays** and compute **normal vectors** for lighting. A normal vector is perpendicular to a surface and is used for lighting calculations.\n",
        "\n",
        "To compute normals:\n",
        "- Calculate partial derivatives in two directions (via gradients)\n",
        "- Use the **cross product** to obtain the perpendicular vector\n",
        "- Normalize the result\n",
        "\n",
        "Normals are essential in lighting models like **Phong** or **Blinn-Phong** for realistic shading.\n",
        "\n",
        "---\n",
        "\n",
        "By combining procedural and parametric modeling, as well as computing vertex normals, we gain full control over the geometry and appearance of 3D objects.\n"
      ]
    },
    {
      "cell_type": "code",
      "execution_count": null,
      "metadata": {
        "id": "xIaHwq_BWMU1"
      },
      "outputs": [],
      "source": [
        "import numpy as np\n",
        "import matplotlib.pyplot as plt\n",
        "from mpl_toolkits.mplot3d import Axes3D"
      ]
    },
    {
      "cell_type": "code",
      "execution_count": null,
      "metadata": {
        "id": "CxC2nawWWOa4"
      },
      "outputs": [],
      "source": [
        "# --- Utility Function to Plot 3D Surface ---\n",
        "def plot_surface(X, Y, Z, title=\"3D Surface\", cmap=\"viridis\"):\n",
        "    fig = plt.figure(figsize=(8,6))\n",
        "    ax = fig.add_subplot(111, projection='3d')\n",
        "    ax.plot_surface(X, Y, Z, cmap=cmap, edgecolor='k', linewidth=0.3)\n",
        "    ax.set_title(title)\n",
        "    plt.show()"
      ]
    },
    {
      "cell_type": "markdown",
      "metadata": {
        "id": "aDqur9CFWY23"
      },
      "source": [
        "### Procedural Geometry: Cube\n",
        "\n",
        "In this example, a cube is generated procedurally by explicitly defining its **8 corner vertices** in 3D space and connecting them using **12 edges**. Each vertex is represented as a 3D point \\((x, y, z)\\), and the edges are defined as pairs of indices referencing the vertices. This method demonstrates how complex 3D shapes can be built from basic geometric primitives using simple arrays and loops.\n",
        "\n",
        "The cube is plotted using `matplotlib`’s 3D plotting tools by iterating through the list of edges and drawing lines between corresponding vertex pairs. Procedural geometry like this forms the foundation for constructing more advanced objects and is especially useful in game development, modeling, and simulation environments.\n"
      ]
    },
    {
      "cell_type": "code",
      "execution_count": null,
      "metadata": {
        "id": "DbIlvbi6WTW7"
      },
      "outputs": [],
      "source": [
        "# --- Part 1: Procedural Geometry ---\n",
        "# 1. Cube\n",
        "cube_vertices = np.array([\n",
        "    [0, 0, 0], [1, 0, 0], [1, 1, 0], [0, 1, 0],\n",
        "    [0, 0, 1], [1, 0, 1], [1, 1, 1], [0, 1, 1]\n",
        "])\n",
        "cube_edges = [\n",
        "    (0,1), (1,2), (2,3), (3,0),\n",
        "    (4,5), (5,6), (6,7), (7,4),\n",
        "    (0,4), (1,5), (2,6), (3,7)\n",
        "]\n",
        "\n",
        "fig = plt.figure()\n",
        "ax = fig.add_subplot(111, projection='3d')\n",
        "for e in cube_edges:\n",
        "    x = [cube_vertices[e[0]][0], cube_vertices[e[1]][0]]\n",
        "    y = [cube_vertices[e[0]][1], cube_vertices[e[1]][1]]\n",
        "    z = [cube_vertices[e[0]][2], cube_vertices[e[1]][2]]\n",
        "    ax.plot(x, y, z, 'k')\n",
        "ax.set_title(\"Procedurally Generated Cube\")\n",
        "plt.show()"
      ]
    },
    {
      "cell_type": "markdown",
      "metadata": {
        "id": "yzNRmBerWdOC"
      },
      "source": [
        "### 🌐 Procedural Geometry: Sphere (Spherical Coordinates)\n",
        "\n",
        "This example demonstrates how to generate a sphere using **spherical coordinates**, a common technique in 3D graphics. Two angular parameters, \\( u \\in [0, 2\\pi] \\) (azimuthal angle) and \\( v \\in [0, \\pi] \\) (polar angle), are used to cover the surface of the sphere. The 3D coordinates are calculated using the parametric equations:\n",
        "\n",
        "$$\n",
        "\\begin{aligned}\n",
        "x &= \\cos(u) \\cdot \\sin(v) \\\\\\\\\n",
        "y &= \\sin(u) \\cdot \\sin(v) \\\\\\\\\n",
        "z &= \\cos(v)\n",
        "\\end{aligned}\n",
        "$$\n",
        "\n",
        "By generating a mesh grid over \\( u \\) and \\( v \\), a smooth spherical surface is constructed. This method is widely used in computer graphics to model round objects like planets,"
      ]
    },
    {
      "cell_type": "code",
      "execution_count": null,
      "metadata": {
        "id": "sfDsIpmQWd74"
      },
      "outputs": [],
      "source": [
        "# 2. Sphere (using spherical coordinates)\n",
        "u = np.linspace(0, 2 * np.pi, 50)\n",
        "v = np.linspace(0, np.pi, 50)\n",
        "U, V = np.meshgrid(u, v)\n",
        "X = np.cos(U) * np.sin(V)\n",
        "Y = np.sin(U) * np.sin(V)\n",
        "Z = np.cos(V)\n",
        "plot_surface(X, Y, Z, title=\"Procedurally Generated Sphere\")"
      ]
    },
    {
      "cell_type": "markdown",
      "metadata": {
        "id": "k_6GNkJ2Wox2"
      },
      "source": [
        "### Procedural Geometry: Cylinder\n",
        "\n",
        "This example creates a vertical cylinder using **cylindrical coordinates**. The angle $\\theta \\in [0, 2\\pi]$ defines the circular base, while $z \\in [0, 1]$ sets the height. By generating a mesh grid of $\\theta$ and $z$, and mapping $x = \\cos(\\theta)$, $y = \\sin(\\theta)$, the cylinder surface is formed. This method is commonly used for modeling tubes, pipes, and columns in 3D graphics.\n"
      ]
    },
    {
      "cell_type": "code",
      "execution_count": null,
      "metadata": {
        "id": "4pRmrejrWpOW"
      },
      "outputs": [],
      "source": [
        "# 3. Cylinder\n",
        "z = np.linspace(0, 1, 50)\n",
        "theta = np.linspace(0, 2 * np.pi, 50)\n",
        "Theta, Z = np.meshgrid(theta, z)\n",
        "X = np.cos(Theta)\n",
        "Y = np.sin(Theta)\n",
        "plot_surface(X, Y, Z, title=\"Procedurally Generated Cylinder\")"
      ]
    },
    {
      "cell_type": "markdown",
      "metadata": {
        "id": "xXXyqV9GW-fi"
      },
      "source": [
        "### Parametric Modeling: Superellipsoid and Torus\n",
        "\n",
        "Parametric modeling defines surfaces using mathematical equations with one or more parameters. In this part, two parametric shapes are explored:\n",
        "\n",
        "- **Superellipsoid**: A generalization of ellipsoids and cubes, controlled by exponents \\( n_1 \\) and \\( n_2 \\). These parameters influence the shape's roundness or squareness. The surface is generated by applying power operations on trigonometric functions over a 2D parameter grid.\n",
        "\n",
        "- **Torus**: A classic donut-shaped surface defined by two radii — a major radius \\( R \\) and a minor radius \\( r \\). Using two angular parameters, the torus is generated with trigonometric functions that sweep a circle around a larger circular path.\n",
        "\n",
        "These surfaces allow flexible control over shape and are widely used in modeling, animation, and scientific visualization."
      ]
    },
    {
      "cell_type": "code",
      "execution_count": null,
      "metadata": {
        "id": "i838d5eAW-9L"
      },
      "outputs": [],
      "source": [
        "# --- Part 2: Parametric Modeling ---\n",
        "# 1. Superellipsoid\n",
        "n1, n2 = 0.5, 0.5  # adjust for shape complexity\n",
        "\n",
        "def superellipsoid(u, v, a=1, b=1, c=1):\n",
        "    cosu = np.cos(u)\n",
        "    sinu = np.sin(u)\n",
        "    cosv = np.cos(v)\n",
        "    sinv = np.sin(v)\n",
        "\n",
        "    def sgn(x): return np.sign(x)\n",
        "    def exp(x, n): return sgn(x) * (np.abs(x) ** n)\n",
        "\n",
        "    x = a * exp(cosu, n1) * exp(cosv, n2)\n",
        "    y = b * exp(sinu, n1) * exp(cosv, n2)\n",
        "    z = c * exp(sinv, n2)\n",
        "    return x, y, z\n",
        "\n",
        "u = np.linspace(-np.pi, np.pi, 60)\n",
        "v = np.linspace(-np.pi/2, np.pi/2, 60)\n",
        "U, V = np.meshgrid(u, v)\n",
        "X, Y, Z = superellipsoid(U, V)\n",
        "plot_surface(X, Y, Z, title=\"Parametric Superellipsoid\")\n",
        "\n",
        "# 2. Torus\n",
        "\n",
        "def torus(R=1, r=0.3):\n",
        "    u = np.linspace(0, 2 * np.pi, 60)\n",
        "    v = np.linspace(0, 2 * np.pi, 60)\n",
        "    u, v = np.meshgrid(u, v)\n",
        "    X = (R + r * np.cos(v)) * np.cos(u)\n",
        "    Y = (R + r * np.cos(v)) * np.sin(u)\n",
        "    Z = r * np.sin(v)\n",
        "    return X, Y, Z\n",
        "\n",
        "X, Y, Z = torus()\n",
        "plot_surface(X, Y, Z, title=\"Parametric Torus\")"
      ]
    },
    {
      "cell_type": "markdown",
      "metadata": {
        "id": "WVPJpe65XMfs"
      },
      "source": [
        "### Vertex Arrays and Normals\n",
        "\n",
        "In this example, **vertex normals** are computed for a torus surface to enable lighting and shading in 3D rendering. Normals are vectors perpendicular to the surface at each vertex and are crucial for realistic illumination. The method uses numerical gradients to estimate surface tangents, then computes the **cross product** to obtain normals. These normals are normalized and visualized using 3D arrows, illustrating the surface orientation at various points. This technique is widely used in computer graphics, especially in shading models like Phong and Blinn-Phong.\n"
      ]
    },
    {
      "cell_type": "code",
      "execution_count": null,
      "metadata": {
        "id": "b824KvDHVHey"
      },
      "outputs": [],
      "source": [
        "# --- Part 3: Vertex Arrays and Normals ---\n",
        "# Example: Compute vertex normals for the torus\n",
        "from numpy.linalg import norm\n",
        "\n",
        "def compute_normals(X, Y, Z):\n",
        "    U = np.stack((X, Y, Z), axis=-1)\n",
        "    normals = np.zeros_like(U)\n",
        "    dx = np.gradient(U, axis=0)\n",
        "    dy = np.gradient(U, axis=1)\n",
        "    cross = np.cross(dx, dy)\n",
        "    n = norm(cross, axis=-1)\n",
        "    n[n == 0] = 1\n",
        "    normals = cross / n[..., np.newaxis]\n",
        "    return normals\n",
        "\n",
        "normals = compute_normals(X, Y, Z)\n",
        "\n",
        "fig = plt.figure(figsize=(8,6))\n",
        "ax = fig.add_subplot(111, projection='3d')\n",
        "ax.quiver(X[::5,::5], Y[::5,::5], Z[::5,::5],\n",
        "          normals[::5,::5,0], normals[::5,::5,1], normals[::5,::5,2],\n",
        "          length=0.1, color='red')\n",
        "ax.set_title(\"Vertex Normals on Torus\")\n",
        "plt.show()"
      ]
    },
    {
      "cell_type": "markdown",
      "metadata": {
        "id": "CTw5QP5NXWV7"
      },
      "source": [
        "## Task 4: Explore Superellipsoid Shape by Varying Parameters\n",
        "\n",
        "Modify the values of $n_1$ and $n_2$ in the superellipsoid function to observe how the shape transitions between spherical, cuboidal, and star-like forms.\n",
        "\n",
        "- Use three different combinations of $n_1$ and $n_2$\n",
        "- Plot the surface for each variation\n",
        "- Describe how changing each parameter affects the curvature"
      ]
    },
    {
      "cell_type": "markdown",
      "metadata": {
        "id": "Wb1oqFndXp6X"
      },
      "source": [
        "## Task 5: Create a Parametric Cone\n",
        "\n",
        "Build a parametric model of a vertical cone using parameters $\\theta$ (angle) and $h$ (height). The radius should linearly decrease from base to tip.\n",
        "\n",
        "Use the following mapping:\n",
        "- $ x = r(h) \\cdot \\cos(\\theta) $\n",
        "- $ y = r(h) \\cdot \\sin(\\theta) $\n",
        "- $ z = h $\n",
        "\n",
        "Where $ r(h) = 1 - h $. Plot the 3D cone using a surface plot.\n"
      ]
    }
  ],
  "metadata": {
    "colab": {
      "provenance": [],
      "toc_visible": true
    },
    "kernelspec": {
      "display_name": "Python 3",
      "name": "python3"
    },
    "language_info": {
      "name": "python"
    }
  },
  "nbformat": 4,
  "nbformat_minor": 0
}